{
   "cells": [
  {
   "cell_type": "code",
   "execution_count": 2,
   "id": "56ec6133",
   "metadata": {},
   "outputs": [],
   "source": [
    "# bla bla bla\n",
    "students =[]\n",
    "def accept(name,rollNo,hindi,english):\n",
    "    students.append({'name':name,'rollNo':rollNo,'hindi':hindi,'english':english})\n",
    "def display():\n",
    "    if len(students)==0:\n",
    "        print(\"No student records\")\n",
    "    else:\n",
    "        for student in students:\n",
    "            print(\"Name : \",student['name'])\n",
    "            print(\"RollNo : \",student['rollNo'])\n",
    "            print(\"marks in hindi : \",student['hindi'])  \n",
    "            print(\"marks in english : \",student['english'])\n",
    "            print() \n",
    "def search(rollNo):\n",
    "    x=False\n",
    "    for student in students:\n",
    "        if(student['rollNo']==rollNo):\n",
    "            print(\"student Found : \")\n",
    "            print(\"Name : \",student['name'])\n",
    "            print(\"RollNo : \",student['rollNo'])\n",
    "            print(\"marks in hindi : \",student['hindi'])  \n",
    "            print(\"marks in english : \",student['english'])\n",
    "            print()\n",
    "            x=True\n",
    "            break;\n",
    "    if x==False :\n",
    "        print(\"student not found !\")   \n",
    "        \n",
    "def delete(rollNo):\n",
    "    x=False\n",
    "    for student in students:\n",
    "        if(student['rollNo']==rollNo):\n",
    "            students.remove(student)\n",
    "            print(\"student record deleted !\")  \n",
    "            print()\n",
    "            x=True\n",
    "            break;\n",
    "    if x==False :\n",
    "        print(\"student not found\")  \n",
    "\n",
    "def update(rollNo):\n",
    "    x=False\n",
    "    for student in students:\n",
    "        if(student['rollNo']==rollNo):\n",
    "            student['name']=input(\"Enter updated Name : \")\n",
    "            student['hindi'] = input(\"Enter updated marks in hindi : \")\n",
    "            student['english']= input(\"Enter updated marks in english : \")\n",
    "            print(\"student record updated !!\")\n",
    "            print()\n",
    "            x=True\n",
    "            break;\n",
    "    if x==False :\n",
    "        print(\"student not found !\")   \n",
    "                "
   ]
  },
  {
   "cell_type": "code",
   "execution_count": 3,
   "id": "b770ebe2",
   "metadata": {
    "scrolled": true
   },
   "outputs": [
    {
     "name": "stdout",
     "output_type": "stream",
     "text": [
      "Name :  bharat\n",
      "RollNo :  206\n",
      "marks in hindi :  23\n",
      "marks in english :  24\n",
      "\n",
      "Name :  tarun\n",
      "RollNo :  286\n",
      "marks in hindi :  43\n",
      "marks in english :  32\n",
      "\n",
      "Name :  shaurya\n",
      "RollNo :  234\n",
      "marks in hindi :  54\n",
      "marks in english :  56\n",
      "\n",
      "Name :  piyush\n",
      "RollNo :  243\n",
      "marks in hindi :  91\n",
      "marks in english :  93\n",
      "\n"
     ]
    }
   ],
   "source": [
    "accept(\"bharat\",206,23,24)\n",
    "accept(\"tarun\",286,43,32)\n",
    "accept(\"shaurya\",234,54,56)\n",
    "accept(\"piyush\",243,91,93)\n",
    "display()"
   ]
  },
  {
   "cell_type": "code",
   "execution_count": 4,
   "id": "fd67107d",
   "metadata": {},
   "outputs": [
    {
     "name": "stdout",
     "output_type": "stream",
     "text": [
      "student Found : \n",
      "Name :  piyush\n",
      "RollNo :  243\n",
      "marks in hindi :  91\n",
      "marks in english :  93\n",
      "\n"
     ]
    }
   ],
   "source": [
    "search(243)"
   ]
  },
  {
   "cell_type": "code",
   "execution_count": 5,
   "id": "bb04b21b",
   "metadata": {},
   "outputs": [
    {
     "name": "stdout",
     "output_type": "stream",
     "text": [
      "student not found !\n"
     ]
    }
   ],
   "source": [
    "search(200)"
   ]
  },
  {
   "cell_type": "code",
   "execution_count": 6,
   "id": "fb1ba1b5",
   "metadata": {},
   "outputs": [
    {
     "name": "stdout",
     "output_type": "stream",
     "text": [
      "student record deleted !\n",
      "\n",
      "Name :  bharat\n",
      "RollNo :  206\n",
      "marks in hindi :  23\n",
      "marks in english :  24\n",
      "\n",
      "Name :  tarun\n",
      "RollNo :  286\n",
      "marks in hindi :  43\n",
      "marks in english :  32\n",
      "\n",
      "Name :  piyush\n",
      "RollNo :  243\n",
      "marks in hindi :  91\n",
      "marks in english :  93\n",
      "\n"
     ]
    }
   ],
   "source": [
    "delete(234)\n",
    "display()"
   ]
  },
  {
   "cell_type": "code",
   "execution_count": 7,
   "id": "41c9dfa2",
   "metadata": {},
   "outputs": [
    {
     "name": "stdout",
     "output_type": "stream",
     "text": [
      "Enter updated Name : bharat kumar\n",
      "Enter updated marks in hindi : 45\n",
      "Enter updated marks in english : 67\n",
      "student record updated !!\n",
      "\n",
      "Name :  bharat kumar\n",
      "RollNo :  206\n",
      "marks in hindi :  45\n",
      "marks in english :  67\n",
      "\n",
      "Name :  tarun\n",
      "RollNo :  286\n",
      "marks in hindi :  43\n",
      "marks in english :  32\n",
      "\n",
      "Name :  piyush\n",
      "RollNo :  243\n",
      "marks in hindi :  91\n",
      "marks in english :  93\n",
      "\n"
     ]
    }
   ],
   "source": [
    "update(206)\n",
    "display()"
   ]
  }
 ],
 "metadata": {
  "kernelspec": {
   "display_name": "Python 3 (ipykernel)",
   "language": "python",
   "name": "python3"
  },
  "language_info": {
   "codemirror_mode": {
    "name": "ipython",
    "version": 3
   },
   "file_extension": ".py",
   "mimetype": "text/x-python",
   "name": "python",
   "nbconvert_exporter": "python",
   "pygments_lexer": "ipython3",
   "version": "3.10.8"
  }
 },
 "nbformat": 4,
 "nbformat_minor": 5
}
